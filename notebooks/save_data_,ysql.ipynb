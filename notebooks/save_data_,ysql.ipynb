{
 "cells": [
  {
   "cell_type": "markdown",
   "metadata": {},
   "source": [
    "Configurando o SQL com Python"
   ]
  },
  {
   "cell_type": "code",
   "execution_count": 7,
   "metadata": {},
   "outputs": [
    {
     "name": "stdout",
     "output_type": "stream",
     "text": [
      "Conexão estabelecida e cursor criado.\n"
     ]
    }
   ],
   "source": [
    "import mysql.connector\n",
    "\n",
    "conexao = mysql.connector.connect(\n",
    "    host=\"localhost\",\n",
    "    user=\"xxxxxxxx\",\n",
    "    password=\"xxxxxxxxxxxx\",\n",
    "    database=\"dbprodutos\"\n",
    ")\n",
    "\n",
    "cursor = conexao.cursor()\n",
    "print(\"Conexão estabelecida e cursor criado.\")\n",
    "\n"
   ]
  },
  {
   "cell_type": "code",
   "execution_count": 8,
   "metadata": {},
   "outputs": [
    {
     "name": "stdout",
     "output_type": "stream",
     "text": [
      "('dbprodutos',)\n",
      "('information_schema',)\n",
      "('mysql',)\n",
      "('performance_schema',)\n",
      "('sys',)\n"
     ]
    }
   ],
   "source": [
    "cursor.execute(\"SHOW DATABASES;\")\n",
    "\n",
    "for db in cursor:\n",
    "    print(db)"
   ]
  },
  {
   "cell_type": "markdown",
   "metadata": {},
   "source": [
    "Criando uma tabela"
   ]
  },
  {
   "cell_type": "code",
   "execution_count": 12,
   "metadata": {},
   "outputs": [
    {
     "data": {
      "text/html": [
       "<div>\n",
       "<style scoped>\n",
       "    .dataframe tbody tr th:only-of-type {\n",
       "        vertical-align: middle;\n",
       "    }\n",
       "\n",
       "    .dataframe tbody tr th {\n",
       "        vertical-align: top;\n",
       "    }\n",
       "\n",
       "    .dataframe thead th {\n",
       "        text-align: right;\n",
       "    }\n",
       "</style>\n",
       "<table border=\"1\" class=\"dataframe\">\n",
       "  <thead>\n",
       "    <tr style=\"text-align: right;\">\n",
       "      <th></th>\n",
       "      <th>id</th>\n",
       "      <th>title</th>\n",
       "      <th>price</th>\n",
       "    </tr>\n",
       "  </thead>\n",
       "  <tbody>\n",
       "    <tr>\n",
       "      <th>0</th>\n",
       "      <td>11</td>\n",
       "      <td>Annibale Colombo Bed</td>\n",
       "      <td>1899.99</td>\n",
       "    </tr>\n",
       "    <tr>\n",
       "      <th>1</th>\n",
       "      <td>12</td>\n",
       "      <td>Annibale Colombo Sofa</td>\n",
       "      <td>2499.99</td>\n",
       "    </tr>\n",
       "    <tr>\n",
       "      <th>2</th>\n",
       "      <td>13</td>\n",
       "      <td>Bedside Table African Cherry</td>\n",
       "      <td>299.99</td>\n",
       "    </tr>\n",
       "    <tr>\n",
       "      <th>3</th>\n",
       "      <td>14</td>\n",
       "      <td>Knoll Saarinen Executive Conference Chair</td>\n",
       "      <td>499.99</td>\n",
       "    </tr>\n",
       "    <tr>\n",
       "      <th>4</th>\n",
       "      <td>15</td>\n",
       "      <td>Wooden Bathroom Sink With Mirror</td>\n",
       "      <td>799.99</td>\n",
       "    </tr>\n",
       "    <tr>\n",
       "      <th>5</th>\n",
       "      <td>16</td>\n",
       "      <td>Apple</td>\n",
       "      <td>1.99</td>\n",
       "    </tr>\n",
       "    <tr>\n",
       "      <th>6</th>\n",
       "      <td>17</td>\n",
       "      <td>Beef Steak</td>\n",
       "      <td>12.99</td>\n",
       "    </tr>\n",
       "    <tr>\n",
       "      <th>7</th>\n",
       "      <td>18</td>\n",
       "      <td>Cat Food</td>\n",
       "      <td>8.99</td>\n",
       "    </tr>\n",
       "    <tr>\n",
       "      <th>8</th>\n",
       "      <td>19</td>\n",
       "      <td>Chicken Meat</td>\n",
       "      <td>9.99</td>\n",
       "    </tr>\n",
       "    <tr>\n",
       "      <th>9</th>\n",
       "      <td>20</td>\n",
       "      <td>Cooking Oil</td>\n",
       "      <td>4.99</td>\n",
       "    </tr>\n",
       "  </tbody>\n",
       "</table>\n",
       "</div>"
      ],
      "text/plain": [
       "   id                                      title    price\n",
       "0  11                       Annibale Colombo Bed  1899.99\n",
       "1  12                      Annibale Colombo Sofa  2499.99\n",
       "2  13               Bedside Table African Cherry   299.99\n",
       "3  14  Knoll Saarinen Executive Conference Chair   499.99\n",
       "4  15           Wooden Bathroom Sink With Mirror   799.99\n",
       "5  16                                      Apple     1.99\n",
       "6  17                                 Beef Steak    12.99\n",
       "7  18                                   Cat Food     8.99\n",
       "8  19                               Chicken Meat     9.99\n",
       "9  20                                Cooking Oil     4.99"
      ]
     },
     "execution_count": 12,
     "metadata": {},
     "output_type": "execute_result"
    }
   ],
   "source": [
    "import pandas as pd\n",
    "\n",
    "df_produto = pd.read_csv(\"../data/produto_preço.csv\", index_col=0)\n",
    "\n",
    "df_produto"
   ]
  },
  {
   "cell_type": "code",
   "execution_count": 13,
   "metadata": {},
   "outputs": [
    {
     "data": {
      "text/plain": [
       "Index(['id', 'title', 'price'], dtype='object')"
      ]
     },
     "execution_count": 13,
     "metadata": {},
     "output_type": "execute_result"
    }
   ],
   "source": [
    "df_produto.columns"
   ]
  },
  {
   "cell_type": "code",
   "execution_count": 14,
   "metadata": {},
   "outputs": [],
   "source": [
    "cursor.execute(\"\"\"CREATE TABLE IF NOT EXISTS dbprodutos.tabela_mongo(\n",
    "               id VARCHAR(100),\n",
    "               title VARCHAR(100),\n",
    "               price FLOAT(10,2),\n",
    "               PRIMARY KEY(id) \n",
    "               )\"\"\")"
   ]
  },
  {
   "cell_type": "code",
   "execution_count": 15,
   "metadata": {},
   "outputs": [
    {
     "name": "stdout",
     "output_type": "stream",
     "text": [
      "('tabela_mongo',)\n",
      "('tb_livros',)\n",
      "('tb_produtos',)\n"
     ]
    }
   ],
   "source": [
    "cursor.execute(\"SHOW TABLES;\")\n",
    "\n",
    "for tb in cursor:\n",
    "    print(tb)"
   ]
  },
  {
   "cell_type": "markdown",
   "metadata": {},
   "source": [
    "Inserindo os dados CSV na tabela"
   ]
  },
  {
   "cell_type": "code",
   "execution_count": 16,
   "metadata": {},
   "outputs": [
    {
     "name": "stdout",
     "output_type": "stream",
     "text": [
      "(11, 'Annibale Colombo Bed', 1899.99)\n",
      "(12, 'Annibale Colombo Sofa', 2499.99)\n",
      "(13, 'Bedside Table African Cherry', 299.99)\n",
      "(14, 'Knoll Saarinen Executive Conference Chair', 499.99)\n",
      "(15, 'Wooden Bathroom Sink With Mirror', 799.99)\n",
      "(16, 'Apple', 1.99)\n",
      "(17, 'Beef Steak', 12.99)\n",
      "(18, 'Cat Food', 8.99)\n",
      "(19, 'Chicken Meat', 9.99)\n",
      "(20, 'Cooking Oil', 4.99)\n"
     ]
    }
   ],
   "source": [
    "for i, row in df_produto.iterrows():\n",
    "    print(tuple(row))"
   ]
  },
  {
   "cell_type": "code",
   "execution_count": 17,
   "metadata": {},
   "outputs": [
    {
     "data": {
      "text/plain": [
       "[(11, 'Annibale Colombo Bed', 1899.99),\n",
       " (12, 'Annibale Colombo Sofa', 2499.99),\n",
       " (13, 'Bedside Table African Cherry', 299.99),\n",
       " (14, 'Knoll Saarinen Executive Conference Chair', 499.99),\n",
       " (15, 'Wooden Bathroom Sink With Mirror', 799.99),\n",
       " (16, 'Apple', 1.99),\n",
       " (17, 'Beef Steak', 12.99),\n",
       " (18, 'Cat Food', 8.99),\n",
       " (19, 'Chicken Meat', 9.99),\n",
       " (20, 'Cooking Oil', 4.99)]"
      ]
     },
     "execution_count": 17,
     "metadata": {},
     "output_type": "execute_result"
    }
   ],
   "source": [
    "lista_dados = [tuple(row) for i, row in df_produto.iterrows()]\n",
    "\n",
    "lista_dados"
   ]
  },
  {
   "cell_type": "code",
   "execution_count": 18,
   "metadata": {},
   "outputs": [],
   "source": [
    "sql = \"INSERT INTO dbprodutos.tabela_mongo VALUES(%s,%s,%s)\"\n",
    "\n",
    "cursor.executemany(sql, lista_dados)\n",
    "\n",
    "conexao.commit()"
   ]
  },
  {
   "cell_type": "code",
   "execution_count": 19,
   "metadata": {},
   "outputs": [
    {
     "name": "stdout",
     "output_type": "stream",
     "text": [
      "10 dados inseridos\n"
     ]
    }
   ],
   "source": [
    "print(cursor.rowcount, \"dados inseridos\")"
   ]
  },
  {
   "cell_type": "code",
   "execution_count": 20,
   "metadata": {},
   "outputs": [
    {
     "data": {
      "text/plain": [
       "True"
      ]
     },
     "execution_count": 20,
     "metadata": {},
     "output_type": "execute_result"
    }
   ],
   "source": [
    "cursor.close()"
   ]
  },
  {
   "cell_type": "code",
   "execution_count": 21,
   "metadata": {},
   "outputs": [],
   "source": [
    "conexao.close()"
   ]
  }
 ],
 "metadata": {
  "kernelspec": {
   "display_name": "Python 3",
   "language": "python",
   "name": "python3"
  },
  "language_info": {
   "codemirror_mode": {
    "name": "ipython",
    "version": 3
   },
   "file_extension": ".py",
   "mimetype": "text/x-python",
   "name": "python",
   "nbconvert_exporter": "python",
   "pygments_lexer": "ipython3",
   "version": "3.12.0"
  }
 },
 "nbformat": 4,
 "nbformat_minor": 2
}
